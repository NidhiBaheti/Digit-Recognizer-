{
 "cells": [
  {
   "cell_type": "code",
   "execution_count": 1,
   "metadata": {},
   "outputs": [],
   "source": [
    "import pandas as pd\n",
    "import numpy as np \n",
    "import tensorflow as tf \n",
    "import keras \n",
    "from keras.models import Sequential\n",
    "from keras.layers import Conv2D, MaxPooling2D, AveragePooling2D, Dense, Activation, Dropout, Flatten, BatchNormalization\n",
    "from keras.preprocessing import image\n",
    "from keras.metrics import categorical_accuracy\n",
    "from keras.models import model_from_json\n",
    "from keras.callbacks import ModelCheckpoint\n",
    "from keras.optimizers import *\n",
    "from keras.preprocessing.image import ImageDataGenerator\n",
    "import matplotlib.pyplot as plt "
   ]
  },
  {
   "cell_type": "code",
   "execution_count": 2,
   "metadata": {},
   "outputs": [
    {
     "data": {
      "text/html": [
       "<div>\n",
       "<style scoped>\n",
       "    .dataframe tbody tr th:only-of-type {\n",
       "        vertical-align: middle;\n",
       "    }\n",
       "\n",
       "    .dataframe tbody tr th {\n",
       "        vertical-align: top;\n",
       "    }\n",
       "\n",
       "    .dataframe thead th {\n",
       "        text-align: right;\n",
       "    }\n",
       "</style>\n",
       "<table border=\"1\" class=\"dataframe\">\n",
       "  <thead>\n",
       "    <tr style=\"text-align: right;\">\n",
       "      <th></th>\n",
       "      <th>emotion</th>\n",
       "      <th>pixels</th>\n",
       "      <th>Usage</th>\n",
       "    </tr>\n",
       "  </thead>\n",
       "  <tbody>\n",
       "    <tr>\n",
       "      <th>0</th>\n",
       "      <td>0</td>\n",
       "      <td>70 80 82 72 58 58 60 63 54 58 60 48 89 115 121...</td>\n",
       "      <td>Training</td>\n",
       "    </tr>\n",
       "    <tr>\n",
       "      <th>1</th>\n",
       "      <td>0</td>\n",
       "      <td>151 150 147 155 148 133 111 140 170 174 182 15...</td>\n",
       "      <td>Training</td>\n",
       "    </tr>\n",
       "    <tr>\n",
       "      <th>2</th>\n",
       "      <td>2</td>\n",
       "      <td>231 212 156 164 174 138 161 173 182 200 106 38...</td>\n",
       "      <td>Training</td>\n",
       "    </tr>\n",
       "    <tr>\n",
       "      <th>3</th>\n",
       "      <td>4</td>\n",
       "      <td>24 32 36 30 32 23 19 20 30 41 21 22 32 34 21 1...</td>\n",
       "      <td>Training</td>\n",
       "    </tr>\n",
       "    <tr>\n",
       "      <th>4</th>\n",
       "      <td>6</td>\n",
       "      <td>4 0 0 0 0 0 0 0 0 0 0 0 3 15 23 28 48 50 58 84...</td>\n",
       "      <td>Training</td>\n",
       "    </tr>\n",
       "    <tr>\n",
       "      <th>5</th>\n",
       "      <td>2</td>\n",
       "      <td>55 55 55 55 55 54 60 68 54 85 151 163 170 179 ...</td>\n",
       "      <td>Training</td>\n",
       "    </tr>\n",
       "    <tr>\n",
       "      <th>6</th>\n",
       "      <td>4</td>\n",
       "      <td>20 17 19 21 25 38 42 42 46 54 56 62 63 66 82 1...</td>\n",
       "      <td>Training</td>\n",
       "    </tr>\n",
       "    <tr>\n",
       "      <th>7</th>\n",
       "      <td>3</td>\n",
       "      <td>77 78 79 79 78 75 60 55 47 48 58 73 77 79 57 5...</td>\n",
       "      <td>Training</td>\n",
       "    </tr>\n",
       "    <tr>\n",
       "      <th>8</th>\n",
       "      <td>3</td>\n",
       "      <td>85 84 90 121 101 102 133 153 153 169 177 189 1...</td>\n",
       "      <td>Training</td>\n",
       "    </tr>\n",
       "    <tr>\n",
       "      <th>9</th>\n",
       "      <td>2</td>\n",
       "      <td>255 254 255 254 254 179 122 107 95 124 149 150...</td>\n",
       "      <td>Training</td>\n",
       "    </tr>\n",
       "  </tbody>\n",
       "</table>\n",
       "</div>"
      ],
      "text/plain": [
       "   emotion                                             pixels     Usage\n",
       "0        0  70 80 82 72 58 58 60 63 54 58 60 48 89 115 121...  Training\n",
       "1        0  151 150 147 155 148 133 111 140 170 174 182 15...  Training\n",
       "2        2  231 212 156 164 174 138 161 173 182 200 106 38...  Training\n",
       "3        4  24 32 36 30 32 23 19 20 30 41 21 22 32 34 21 1...  Training\n",
       "4        6  4 0 0 0 0 0 0 0 0 0 0 0 3 15 23 28 48 50 58 84...  Training\n",
       "5        2  55 55 55 55 55 54 60 68 54 85 151 163 170 179 ...  Training\n",
       "6        4  20 17 19 21 25 38 42 42 46 54 56 62 63 66 82 1...  Training\n",
       "7        3  77 78 79 79 78 75 60 55 47 48 58 73 77 79 57 5...  Training\n",
       "8        3  85 84 90 121 101 102 133 153 153 169 177 189 1...  Training\n",
       "9        2  255 254 255 254 254 179 122 107 95 124 149 150...  Training"
      ]
     },
     "execution_count": 2,
     "metadata": {},
     "output_type": "execute_result"
    }
   ],
   "source": [
    "label_map = ['Anger', 'Disgust', 'Fear', 'Happy', 'Sad', 'Surprise', 'Neutral']\n",
    "df = pd.read_csv('fer2013.csv')\n",
    "im = df['pixels']\n",
    "df.head(10)"
   ]
  },
  {
   "cell_type": "code",
   "execution_count": 3,
   "metadata": {},
   "outputs": [],
   "source": [
    "def getData(filename):\n",
    "    #imagesize = 48x48\n",
    "    Y = []\n",
    "    X = []\n",
    "    first = True\n",
    "    for line in open(filename):\n",
    "        if first:\n",
    "            first = False\n",
    "        else:\n",
    "            row = line.split(',')\n",
    "            Y.append(int(row[0]))\n",
    "            X.append([int(p) for p in row[1].split()])\n",
    "    X, Y = np.array(X) / 255.0, np.array(Y)\n",
    "    return X,Y"
   ]
  },
  {
   "cell_type": "code",
   "execution_count": 4,
   "metadata": {},
   "outputs": [
    {
     "name": "stdout",
     "output_type": "stream",
     "text": [
      "No. of classes are  7\n"
     ]
    }
   ],
   "source": [
    "X, Y = getData('fer2013.csv')\n",
    "num_class = len(set(Y))\n",
    "print('No. of classes are ',num_class)"
   ]
  },
  {
   "cell_type": "code",
   "execution_count": 5,
   "metadata": {},
   "outputs": [],
   "source": [
    "N, D = X.shape\n",
    "X = X.reshape(N, 48, 48, 1)"
   ]
  },
  {
   "cell_type": "code",
   "execution_count": 6,
   "metadata": {},
   "outputs": [],
   "source": [
    "from sklearn.model_selection import train_test_split\n",
    "\n",
    "X_train, X_test, y_train, y_test = train_test_split(X, Y, test_size=0.1, random_state=0)\n",
    "y_train = (np.arange(num_class) == y_train[:, None]).astype(np.float32)\n",
    "y_test = (np.arange(num_class) == y_test[:, None]).astype(np.float32)"
   ]
  },
  {
   "cell_type": "code",
   "execution_count": 7,
   "metadata": {},
   "outputs": [
    {
     "name": "stdout",
     "output_type": "stream",
     "text": [
      "Model: \"sequential\"\n",
      "_________________________________________________________________\n",
      "Layer (type)                 Output Shape              Param #   \n",
      "=================================================================\n",
      "conv2d (Conv2D)              (None, 48, 48, 64)        640       \n",
      "_________________________________________________________________\n",
      "conv2d_1 (Conv2D)            (None, 48, 48, 64)        36928     \n",
      "_________________________________________________________________\n",
      "max_pooling2d (MaxPooling2D) (None, 24, 24, 64)        0         \n",
      "_________________________________________________________________\n",
      "conv2d_2 (Conv2D)            (None, 24, 24, 128)       73856     \n",
      "_________________________________________________________________\n",
      "conv2d_3 (Conv2D)            (None, 24, 24, 128)       147584    \n",
      "_________________________________________________________________\n",
      "max_pooling2d_1 (MaxPooling2 (None, 12, 12, 128)       0         \n",
      "_________________________________________________________________\n",
      "conv2d_4 (Conv2D)            (None, 12, 12, 64)        73792     \n",
      "_________________________________________________________________\n",
      "conv2d_5 (Conv2D)            (None, 12, 12, 64)        36928     \n",
      "_________________________________________________________________\n",
      "max_pooling2d_2 (MaxPooling2 (None, 6, 6, 64)          0         \n",
      "_________________________________________________________________\n",
      "flatten (Flatten)            (None, 2304)              0         \n",
      "_________________________________________________________________\n",
      "dense (Dense)                (None, 128)               295040    \n",
      "_________________________________________________________________\n",
      "activation (Activation)      (None, 128)               0         \n",
      "_________________________________________________________________\n",
      "dense_1 (Dense)              (None, 64)                8256      \n",
      "_________________________________________________________________\n",
      "activation_1 (Activation)    (None, 64)                0         \n",
      "_________________________________________________________________\n",
      "dense_2 (Dense)              (None, 7)                 455       \n",
      "_________________________________________________________________\n",
      "activation_2 (Activation)    (None, 7)                 0         \n",
      "=================================================================\n",
      "Total params: 673,479\n",
      "Trainable params: 673,479\n",
      "Non-trainable params: 0\n",
      "_________________________________________________________________\n"
     ]
    }
   ],
   "source": [
    "def simple_conv():\n",
    "    model = Sequential()\n",
    "    input_shape = (48,48,1)\n",
    "    model.add(Conv2D(64,(3,3), input_shape = input_shape, activation='relu', padding= 'same'))\n",
    "    model.add(Conv2D(64,(3,3),  activation='relu', padding= 'same')) \n",
    "    model.add(MaxPooling2D(pool_size=(2,2)))\n",
    "\n",
    "    model.add(Conv2D(128,(3,3),  activation='relu', padding= 'same'))\n",
    "    model.add(Conv2D(128,(3,3),  activation='relu', padding= 'same')) \n",
    "    model.add(MaxPooling2D(pool_size=(2,2)))\n",
    "\n",
    "    model.add(Conv2D(64,(3,3),  activation='relu', padding= 'same'))\n",
    "    model.add(Conv2D(64,(3,3),  activation='relu', padding= 'same')) \n",
    "    model.add(MaxPooling2D(pool_size=(2,2)))\n",
    "\n",
    "    model.add(Flatten())\n",
    "    model.add(Dense(128))\n",
    "    model.add(Activation('relu'))\n",
    "    model.add(Dense(64))\n",
    "    model.add(Activation('relu'))\n",
    "    model.add(Dense(7))\n",
    "    model.add(Activation('softmax'))\n",
    "\n",
    "\n",
    "    model.compile(loss='categorical_crossentropy', metrics=['accuracy'], optimizer='adam')\n",
    "\n",
    "    return model\n",
    "\n",
    "simple_model = simple_conv()\n",
    "simple_model.summary()"
   ]
  },
  {
   "cell_type": "code",
   "execution_count": 8,
   "metadata": {},
   "outputs": [
    {
     "name": "stdout",
     "output_type": "stream",
     "text": [
      "Epoch 1/20\n",
      "1010/1010 [==============================] - 43s 36ms/step - loss: 1.8058 - accuracy: 0.2529 - val_loss: 1.6988 - val_accuracy: 0.3018\n",
      "Epoch 2/20\n",
      "1010/1010 [==============================] - 35s 35ms/step - loss: 1.5414 - accuracy: 0.3979 - val_loss: 1.4017 - val_accuracy: 0.4614\n",
      "Epoch 3/20\n",
      "1010/1010 [==============================] - 36s 35ms/step - loss: 1.3512 - accuracy: 0.4814 - val_loss: 1.2792 - val_accuracy: 0.5060\n",
      "Epoch 4/20\n",
      "1010/1010 [==============================] - 36s 36ms/step - loss: 1.2353 - accuracy: 0.5289 - val_loss: 1.2245 - val_accuracy: 0.5300\n",
      "Epoch 5/20\n",
      "1010/1010 [==============================] - 36s 36ms/step - loss: 1.1477 - accuracy: 0.5645 - val_loss: 1.1927 - val_accuracy: 0.5472\n",
      "Epoch 6/20\n",
      "1010/1010 [==============================] - 36s 36ms/step - loss: 1.0713 - accuracy: 0.5937 - val_loss: 1.1637 - val_accuracy: 0.5561\n",
      "Epoch 7/20\n",
      "1010/1010 [==============================] - 36s 36ms/step - loss: 0.9988 - accuracy: 0.6245 - val_loss: 1.1529 - val_accuracy: 0.5628\n",
      "Epoch 8/20\n",
      "1010/1010 [==============================] - 36s 36ms/step - loss: 0.9282 - accuracy: 0.6533 - val_loss: 1.1619 - val_accuracy: 0.5612\n",
      "Epoch 9/20\n",
      "1010/1010 [==============================] - 38s 37ms/step - loss: 0.8557 - accuracy: 0.6835 - val_loss: 1.2097 - val_accuracy: 0.5534\n",
      "Epoch 10/20\n",
      "1010/1010 [==============================] - 37s 36ms/step - loss: 0.7911 - accuracy: 0.7061 - val_loss: 1.2283 - val_accuracy: 0.5717\n",
      "Epoch 11/20\n",
      "1010/1010 [==============================] - 36s 36ms/step - loss: 0.7137 - accuracy: 0.7371 - val_loss: 1.2998 - val_accuracy: 0.5723\n",
      "Epoch 12/20\n",
      "1010/1010 [==============================] - 36s 36ms/step - loss: 0.6489 - accuracy: 0.7606 - val_loss: 1.3778 - val_accuracy: 0.5687\n",
      "Epoch 13/20\n",
      "1010/1010 [==============================] - 37s 36ms/step - loss: 0.5860 - accuracy: 0.7830 - val_loss: 1.5000 - val_accuracy: 0.5475\n",
      "Epoch 14/20\n",
      "1010/1010 [==============================] - 38s 37ms/step - loss: 0.5361 - accuracy: 0.8042 - val_loss: 1.5409 - val_accuracy: 0.5561\n",
      "Epoch 15/20\n",
      "1010/1010 [==============================] - 37s 37ms/step - loss: 0.4727 - accuracy: 0.8260 - val_loss: 1.5695 - val_accuracy: 0.5634\n",
      "Epoch 16/20\n",
      "1010/1010 [==============================] - 37s 37ms/step - loss: 0.4406 - accuracy: 0.8390 - val_loss: 1.6525 - val_accuracy: 0.5481\n",
      "Epoch 17/20\n",
      "1010/1010 [==============================] - 37s 36ms/step - loss: 0.3899 - accuracy: 0.8571 - val_loss: 1.8491 - val_accuracy: 0.5517\n",
      "Epoch 18/20\n",
      "1010/1010 [==============================] - 38s 37ms/step - loss: 0.3629 - accuracy: 0.8688 - val_loss: 2.0089 - val_accuracy: 0.5556\n",
      "Epoch 19/20\n",
      "1010/1010 [==============================] - 38s 37ms/step - loss: 0.3431 - accuracy: 0.8774 - val_loss: 2.1073 - val_accuracy: 0.5522\n",
      "Epoch 20/20\n",
      "1010/1010 [==============================] - 38s 37ms/step - loss: 0.3072 - accuracy: 0.8889 - val_loss: 2.2414 - val_accuracy: 0.5603\n"
     ]
    }
   ],
   "source": [
    "path_model='Models/proto/simple_conv.h5' \n",
    "simple_model_history = simple_model.fit(x=X_train,     \n",
    "            y=y_train, \n",
    "            batch_size=32, \n",
    "            epochs=20, \n",
    "            verbose=1, \n",
    "            validation_data=(X_test,y_test),\n",
    "            shuffle=True,\n",
    "            callbacks=[\n",
    "                ModelCheckpoint(filepath=path_model),\n",
    "            ]\n",
    "            )"
   ]
  },
  {
   "cell_type": "code",
   "execution_count": 9,
   "metadata": {},
   "outputs": [],
   "source": [
    "def plot_graph(history, metric):\n",
    "    plt.plot(history.history[metric])\n",
    "    plt.plot(history.history['val_' +metric], '')\n",
    "    plt.xlabel(\"Epochs\")\n",
    "    plt.ylabel(metric)\n",
    "    plt.legend([metric, 'val_'+metric])"
   ]
  },
  {
   "cell_type": "code",
   "execution_count": 10,
   "metadata": {},
   "outputs": [
    {
     "data": {
      "image/png": "[encoded data removed]",
      "text/plain": [
       "<Figure size 432x288 with 1 Axes>"
      ]
     },
     "metadata": {
      "needs_background": "light"
     },
     "output_type": "display_data"
    }
   ],
   "source": [
    "%matplotlib inline\n",
    "plot_graph(simple_model_history,'accuracy')"
   ]
  },
  {
   "cell_type": "code",
   "execution_count": null,
   "metadata": {},
   "outputs": [],
   "source": [
    "plot_graph(simple_model_history,'loss')"
   ]
  },
  {
   "cell_type": "code",
   "execution_count": null,
   "metadata": {},
   "outputs": [],
   "source": [
    "def norm_conv():\n",
    "    model = Sequential()\n",
    "    input_shape = (48,48,1)\n",
    "    model.add(Conv2D(64,(3,3), input_shape = input_shape, activation='relu', padding= 'same'))\n",
    "    model.add(Conv2D(64,(3,3),  activation='relu', padding= 'same')) \n",
    "    model.add(BatchNormalization())\n",
    "    model.add(MaxPooling2D(pool_size=(2,2)))\n",
    "\n",
    "    model.add(Conv2D(128,(3,3),  activation='relu', padding= 'same'))\n",
    "    model.add(Conv2D(128,(3,3),  activation='relu', padding= 'same'))\n",
    "    model.add(BatchNormalization()) \n",
    "    model.add(MaxPooling2D(pool_size=(2,2)))\n",
    "\n",
    "    model.add(Conv2D(64,(3,3),  activation='relu', padding= 'same'))\n",
    "    model.add(Conv2D(64,(3,3),  activation='relu', padding= 'same'))\n",
    "    model.add(BatchNormalization()) \n",
    "    model.add(MaxPooling2D(pool_size=(2,2)))\n",
    "\n",
    "    model.add(Flatten())\n",
    "    model.add(Dense(128))\n",
    "    model.add(BatchNormalization())\n",
    "    model.add(Activation('relu'))\n",
    "    model.add(Dense(64))\n",
    "    model.add(BatchNormalization())\n",
    "    model.add(Activation('relu'))\n",
    "    model.add(Dense(7))\n",
    "    model.add(Activation('softmax'))\n",
    "\n",
    "\n",
    "    model.compile(loss='categorical_crossentropy', metrics=['accuracy'], optimizer='adam')\n",
    "\n",
    "    return model\n",
    "\n",
    "norm_model = norm_conv()\n",
    "norm_model.summary()\n"
   ]
  },
  {
   "cell_type": "code",
   "execution_count": null,
   "metadata": {},
   "outputs": [],
   "source": [
    "path_model='Models/proto/norm_conv.h5' \n",
    "norm_model_history = norm_model.fit(x=X_train,     \n",
    "            y=y_train, \n",
    "            batch_size=32, \n",
    "            epochs=20, \n",
    "            verbose=1, \n",
    "            validation_data=(X_test,y_test),\n",
    "            shuffle=True,\n",
    "            callbacks=[\n",
    "                ModelCheckpoint(filepath=path_model),\n",
    "            ]\n",
    "            )"
   ]
  },
  {
   "cell_type": "code",
   "execution_count": null,
   "metadata": {},
   "outputs": [],
   "source": [
    "plot_graph(norm_model_history,'accuracy')"
   ]
  },
  {
   "cell_type": "code",
   "execution_count": null,
   "metadata": {},
   "outputs": [],
   "source": [
    "plot_graph(norm_model_history,'loss')\n"
   ]
  }
 ],
 "metadata": {
  "interpreter": {
   "hash": "fae94565347bc4426000fb7dcef58df287d6a2564185e23adb39d1fd92655a04"
  },
  "kernelspec": {
   "display_name": "Python 3",
   "language": "python",
   "name": "python3"
  },
  "language_info": {
   "codemirror_mode": {
    "name": "ipython",
    "version": 3
   },
   "file_extension": ".py",
   "mimetype": "text/x-python",
   "name": "python",
   "nbconvert_exporter": "python",
   "pygments_lexer": "ipython3",
   "version": "3.7.4"
  }
 },
 "nbformat": 4,
 "nbformat_minor": 2
}
